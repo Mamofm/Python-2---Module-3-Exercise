{
 "cells": [
  {
   "cell_type": "markdown",
   "metadata": {},
   "source": [
    "# OOP - Polymorphism, & Abstraction"
   ]
  },
  {
   "cell_type": "markdown",
   "metadata": {},
   "source": [
    "## Exercise 1: \n",
    "Create an abstract class called Vehicle with \n",
    "- color, make, and year private attributes \n",
    "\n",
    "and abstract method called \n",
    "- get_info() which returns all information\n",
    "- honk() which returns a string of honking sound\n",
    "\n",
    "Create Car, Boat, and Bicycle class which is a child class of the Vehicle class.  Then, create an instance of each child class and call get_info() method to print out its information in a user friendly format. Add other methods as you like."
   ]
  },
  {
   "cell_type": "code",
   "execution_count": 33,
   "metadata": {},
   "outputs": [],
   "source": [
    "# With Abstraction\n",
    "from abc import ABC, abstractmethod\n",
    "\n",
    "class Vehicle(ABC) :    \n",
    "    def __init__(self, model, makeyr) :\n",
    "        self.__makeyr = makeyr\n",
    "        self.__model = model\n",
    "            \n",
    "    def get_vechil(self) :\n",
    "        return f\"{self.__model} {self.__makeyr} \"\n",
    "    \n",
    "    @abstractmethod\n",
    "    def get_info(self) :\n",
    "        pass\n",
    "\n"
   ]
  },
  {
   "cell_type": "code",
   "execution_count": 34,
   "metadata": {},
   "outputs": [],
   "source": [
    "class Car (Vehicle) :\n",
    "    def __init__(self, model, makeyr, color) :\n",
    "        self.__color = color\n",
    "        super().__init__(model, makeyr)\n",
    "        \n",
    "    def get_info(self) :\n",
    "        return f\"{super().get_vechil()}is a car with {self.__color} color\"\n",
    "    \n",
    "        \n",
    "class Bicycle (Vehicle) :\n",
    "    def __init__(self, model, makeyr, color) :\n",
    "        self.__color = color\n",
    "        super().__init__(model, makeyr)\n",
    "        \n",
    "    def get_info(self) :    \n",
    "        return f\"{super().get_vechil()}is a bicycle with {self.__color} color\"\n",
    "        \n",
    "class Boat(Vehicle) :    \n",
    "    def __init__(self, model, makeyr, color) :\n",
    "        self.__color = color\n",
    "        super().__init__(model, makeyr)\n",
    "        \n",
    "    def get_info(self) :    \n",
    "        return f\"{super().get_vechil()}is with {self.__color} color\"\n"
   ]
  },
  {
   "cell_type": "code",
   "execution_count": 35,
   "metadata": {},
   "outputs": [
    {
     "name": "stdout",
     "output_type": "stream",
     "text": [
      "Toyota 2013 is a car with Red color\n",
      "Olympic 2020 is a bicycle with Blue color\n",
      "SunRise 2019 is with Magenta color\n"
     ]
    }
   ],
   "source": [
    "import random as rand\n",
    "\n",
    "mycar = Car(\"Toyota\", 2013, \"Red\")\n",
    "mybike = Bicycle(\"Olympic\", 2020, \"Blue\")\n",
    "myboat = Boat(\"SunRise\", 2019, \"Magenta\")\n",
    "\n",
    "print(mycar.get_info())\n",
    "print(mybike.get_info())\n",
    "print(myboat.get_info())"
   ]
  },
  {
   "cell_type": "markdown",
   "metadata": {},
   "source": [
    "## Exercise 2: \n",
    "Create an abstract class called Person with name and address attributes, and print_info() abstract method. \n",
    "1. Build an Employee class inherited from Person class that \n",
    "    - stores hired date and salary attributes \n",
    "    - print_info() method that will be used to print out all information about an employee\n",
    "    - a method to calculate employee's monthly pay where federal tax is 15%, MD tax is 4.5%, and a local tax is 3%.\n",
    "    \n",
    "2. Build a Customer class also inherited from Person class that\n",
    "    - stores balance attribute\n",
    "    - print_info() method that will be used to print out all information about a customer\n",
    "\n",
    "\n",
    "Build any method you need but apply encapsulation at all possible. Then, write a program to show your classes work with multiple employees and customers. \n",
    "\n",
    "CHALLENGE!!!\n",
    "Create an Address class and use it in Person class"
   ]
  },
  {
   "cell_type": "code",
   "execution_count": 43,
   "metadata": {},
   "outputs": [],
   "source": [
    "from abc import ABC, abstractmethod\n",
    "\n",
    "class Person(ABC) :\n",
    "    def __init__(self, name, addr) :\n",
    "        self.__name = name\n",
    "        self.__addr = addr\n",
    "        \n",
    "    def get_addr(self) :\n",
    "        return self.__addr\n",
    "        \n",
    "    def get_name(self) :\n",
    "        return self.__name\n",
    "    \n",
    "        \n",
    "    @abstractmethod\n",
    "    def print_info(self) :\n",
    "        pass"
   ]
  },
  {
   "cell_type": "code",
   "execution_count": 93,
   "metadata": {},
   "outputs": [],
   "source": [
    "class Employee(Person) :\n",
    "    def __init__(self, name, address, hired, salary) :\n",
    "        super().__init__(name, address)\n",
    "        self.__hired = hired\n",
    "        self.__salary = salary\n",
    "    \n",
    "    #monthly pay where federal tax is 15%, MD tax is 4.5%, and a local tax is 3%.\n",
    "    def get_monthly_pay(self) :\n",
    "        monthly = (self.__salary / 12.0) *(15/100)\n",
    "        netpay = (self.__salary / 12.0) - ((self.__salary / 12.0) *(15/100)) - ( (self.__salary / 12.0)* 0.045) - ((self.__salary / 12.0)*0.03)\n",
    "        return f\"Net Pay:{netpay:,.2f}\"\n",
    "    \n",
    "    def print_info(self) :\n",
    "        return f\"Name:{super().get_name()}\\t Address:{super().get_addr()}\\t{self.get_monthly_pay()}\"\n",
    "    \n",
    "class Customer(Person) :\n",
    "    def __init__(self, name, addr, bal) :\n",
    "        super().__init__(name, addr)\n",
    "        self.__bal = bal\n",
    "        \n",
    "    def print_info(self) :\n",
    "        return f\"Name:{super().get_name()}\\tAddress:{super().get_addr()}\\tBalance:\\t${self.__bal:,.2f}\"\n",
    "    "
   ]
  },
  {
   "cell_type": "code",
   "execution_count": 94,
   "metadata": {},
   "outputs": [
    {
     "name": "stdout",
     "output_type": "stream",
     "text": [
      "Employees Directory\n",
      "Name:Mary Smith\t Address:Georgia Blvd\tNet Pay:5,166.67\n",
      "Name:James Browm\t Address:16th Street\tNet Pay:5,812.50\n",
      "\n",
      "LIst of Customers\n",
      "Name:Oliver Joe\tAddress:5 Broadway st\tBalance:\t$58.90\n",
      "Name:Mary Lue\tAddress:Adams Street\tBalance:\t$79.99\n"
     ]
    }
   ],
   "source": [
    "emp1 = Employee(\"Mary Smith\", \"Georgia Blvd\", 2002, 80000)\n",
    "emp2 = Employee(\"James Browm\", \"16th Street\", 2007, 90000)\n",
    "custA = Customer(\"Oliver Joe\", \"5 Broadway st\", 58.90)\n",
    "custB = Customer(\"Mary Lue\", \"Adams Street\", 79.99)\n",
    "\n",
    "print(\"Employees Directory\")\n",
    "print(emp1.print_info())\n",
    "print(emp2.print_info())\n",
    "print()\n",
    "print(\"LIst of Customers\")\n",
    "print(custA.print_info())\n",
    "print(custB.print_info())\n"
   ]
  },
  {
   "cell_type": "code",
   "execution_count": null,
   "metadata": {},
   "outputs": [],
   "source": []
  }
 ],
 "metadata": {
  "kernelspec": {
   "display_name": "Python 3",
   "language": "python",
   "name": "python3"
  },
  "language_info": {
   "codemirror_mode": {
    "name": "ipython",
    "version": 3
   },
   "file_extension": ".py",
   "mimetype": "text/x-python",
   "name": "python",
   "nbconvert_exporter": "python",
   "pygments_lexer": "ipython3",
   "version": "3.8.8"
  }
 },
 "nbformat": 4,
 "nbformat_minor": 4
}
